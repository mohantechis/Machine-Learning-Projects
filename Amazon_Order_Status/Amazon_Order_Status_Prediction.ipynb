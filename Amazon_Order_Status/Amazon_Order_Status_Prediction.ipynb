{
  "nbformat": 4,
  "nbformat_minor": 0,
  "metadata": {
    "colab": {
      "name": "Amazon_Order_Status_Prediction.ipynb",
      "provenance": []
    },
    "kernelspec": {
      "name": "python3",
      "display_name": "Python 3"
    },
    "language_info": {
      "name": "python"
    }
  },
  "cells": [
    {
      "cell_type": "markdown",
      "source": [
        "# Importing Libraries"
      ],
      "metadata": {
        "id": "UjJvtHsNCngp"
      }
    },
    {
      "cell_type": "code",
      "execution_count": 1,
      "metadata": {
        "id": "Wxm5nZxTCBu6"
      },
      "outputs": [],
      "source": [
        "import pandas as pd\n",
        "import numpy as np\n",
        "import seaborn as sns\n",
        "from imblearn.over_sampling import SMOTE\n",
        "from sklearn.linear_model import LogisticRegression\n",
        "from sklearn.metrics import accuracy_score\n",
        "from sklearn.metrics import classification_report\n",
        "from sklearn.model_selection import train_test_split\n",
        "from sklearn.model_selection import KFold, cross_val_score\n",
        "from sklearn.tree import DecisionTreeClassifier\n"
      ]
    },
    {
      "cell_type": "markdown",
      "source": [
        "# Read Dataset"
      ],
      "metadata": {
        "id": "NMRWzIA8CxNa"
      }
    },
    {
      "cell_type": "code",
      "source": [
        "data = pd.read_excel(\"/content/drive/MyDrive/Datasets_PROJECTS/orders_data.xlsx\")\n",
        "data.head()"
      ],
      "metadata": {
        "colab": {
          "base_uri": "https://localhost:8080/",
          "height": 548
        },
        "id": "Me4XHXzFCwE3",
        "outputId": "323de1df-442d-4efd-8adb-a9834ab2a5ce"
      },
      "execution_count": 2,
      "outputs": [
        {
          "output_type": "execute_result",
          "data": {
            "text/plain": [
              "              order_no                       order_date       buyer  \\\n",
              "0  405-9763961-5211537  Sun, 18 Jul, 2021, 10:38 pm IST         Mr.   \n",
              "1  404-3964908-7850720   Tue, 19 Oct, 2021, 6:05 pm IST       Minam   \n",
              "2  171-8103182-4289117  Sun, 28 Nov, 2021, 10:20 pm IST  yatipertin   \n",
              "3  405-3171677-9557154   Wed, 28 Jul, 2021, 4:06 am IST       aciya   \n",
              "4  402-8910771-1215552  Tue, 28 Sept, 2021, 2:50 pm IST     Susmita   \n",
              "\n",
              "      ship_city         ship_state                 sku  \\\n",
              "0   CHANDIGARH,         CHANDIGARH  SKU:  2X-3C0F-KNJE   \n",
              "1     PASIGHAT,  ARUNACHAL PRADESH  SKU:  DN-0WDX-VYOT   \n",
              "2     PASIGHAT,  ARUNACHAL PRADESH  SKU:  DN-0WDX-VYOT   \n",
              "3  DEVARAKONDA,          TELANGANA  SKU:  AH-J3AO-R7DN   \n",
              "4       MUMBAI,        MAHARASHTRA  SKU:  KL-7WAA-Z82I   \n",
              "\n",
              "                                         description  quantity item_total  \\\n",
              "0  100% Leather Elephant Shaped Piggy Coin Bank |...         1    ₹449.00   \n",
              "1  Women's Set of 5 Multicolor Pure Leather Singl...         1    ₹449.00   \n",
              "2  Women's Set of 5 Multicolor Pure Leather Singl...         1    ₹449.00   \n",
              "3  Pure 100% Leather Block Print Rectangular Jewe...         1        NaN   \n",
              "4  Pure Leather Sling Bag with Multiple Pockets a...         1  ₹1,099.00   \n",
              "\n",
              "  shipping_fee               cod        order_status  \n",
              "0          NaN               NaN  Delivered to buyer  \n",
              "1       ₹60.18               NaN  Delivered to buyer  \n",
              "2       ₹60.18               NaN  Delivered to buyer  \n",
              "3          NaN  Cash On Delivery  Delivered to buyer  \n",
              "4       ₹84.96               NaN  Delivered to buyer  "
            ],
            "text/html": [
              "\n",
              "  <div id=\"df-13fb62f9-5657-45fa-b372-824eb9f2dd7d\">\n",
              "    <div class=\"colab-df-container\">\n",
              "      <div>\n",
              "<style scoped>\n",
              "    .dataframe tbody tr th:only-of-type {\n",
              "        vertical-align: middle;\n",
              "    }\n",
              "\n",
              "    .dataframe tbody tr th {\n",
              "        vertical-align: top;\n",
              "    }\n",
              "\n",
              "    .dataframe thead th {\n",
              "        text-align: right;\n",
              "    }\n",
              "</style>\n",
              "<table border=\"1\" class=\"dataframe\">\n",
              "  <thead>\n",
              "    <tr style=\"text-align: right;\">\n",
              "      <th></th>\n",
              "      <th>order_no</th>\n",
              "      <th>order_date</th>\n",
              "      <th>buyer</th>\n",
              "      <th>ship_city</th>\n",
              "      <th>ship_state</th>\n",
              "      <th>sku</th>\n",
              "      <th>description</th>\n",
              "      <th>quantity</th>\n",
              "      <th>item_total</th>\n",
              "      <th>shipping_fee</th>\n",
              "      <th>cod</th>\n",
              "      <th>order_status</th>\n",
              "    </tr>\n",
              "  </thead>\n",
              "  <tbody>\n",
              "    <tr>\n",
              "      <th>0</th>\n",
              "      <td>405-9763961-5211537</td>\n",
              "      <td>Sun, 18 Jul, 2021, 10:38 pm IST</td>\n",
              "      <td>Mr.</td>\n",
              "      <td>CHANDIGARH,</td>\n",
              "      <td>CHANDIGARH</td>\n",
              "      <td>SKU:  2X-3C0F-KNJE</td>\n",
              "      <td>100% Leather Elephant Shaped Piggy Coin Bank |...</td>\n",
              "      <td>1</td>\n",
              "      <td>₹449.00</td>\n",
              "      <td>NaN</td>\n",
              "      <td>NaN</td>\n",
              "      <td>Delivered to buyer</td>\n",
              "    </tr>\n",
              "    <tr>\n",
              "      <th>1</th>\n",
              "      <td>404-3964908-7850720</td>\n",
              "      <td>Tue, 19 Oct, 2021, 6:05 pm IST</td>\n",
              "      <td>Minam</td>\n",
              "      <td>PASIGHAT,</td>\n",
              "      <td>ARUNACHAL PRADESH</td>\n",
              "      <td>SKU:  DN-0WDX-VYOT</td>\n",
              "      <td>Women's Set of 5 Multicolor Pure Leather Singl...</td>\n",
              "      <td>1</td>\n",
              "      <td>₹449.00</td>\n",
              "      <td>₹60.18</td>\n",
              "      <td>NaN</td>\n",
              "      <td>Delivered to buyer</td>\n",
              "    </tr>\n",
              "    <tr>\n",
              "      <th>2</th>\n",
              "      <td>171-8103182-4289117</td>\n",
              "      <td>Sun, 28 Nov, 2021, 10:20 pm IST</td>\n",
              "      <td>yatipertin</td>\n",
              "      <td>PASIGHAT,</td>\n",
              "      <td>ARUNACHAL PRADESH</td>\n",
              "      <td>SKU:  DN-0WDX-VYOT</td>\n",
              "      <td>Women's Set of 5 Multicolor Pure Leather Singl...</td>\n",
              "      <td>1</td>\n",
              "      <td>₹449.00</td>\n",
              "      <td>₹60.18</td>\n",
              "      <td>NaN</td>\n",
              "      <td>Delivered to buyer</td>\n",
              "    </tr>\n",
              "    <tr>\n",
              "      <th>3</th>\n",
              "      <td>405-3171677-9557154</td>\n",
              "      <td>Wed, 28 Jul, 2021, 4:06 am IST</td>\n",
              "      <td>aciya</td>\n",
              "      <td>DEVARAKONDA,</td>\n",
              "      <td>TELANGANA</td>\n",
              "      <td>SKU:  AH-J3AO-R7DN</td>\n",
              "      <td>Pure 100% Leather Block Print Rectangular Jewe...</td>\n",
              "      <td>1</td>\n",
              "      <td>NaN</td>\n",
              "      <td>NaN</td>\n",
              "      <td>Cash On Delivery</td>\n",
              "      <td>Delivered to buyer</td>\n",
              "    </tr>\n",
              "    <tr>\n",
              "      <th>4</th>\n",
              "      <td>402-8910771-1215552</td>\n",
              "      <td>Tue, 28 Sept, 2021, 2:50 pm IST</td>\n",
              "      <td>Susmita</td>\n",
              "      <td>MUMBAI,</td>\n",
              "      <td>MAHARASHTRA</td>\n",
              "      <td>SKU:  KL-7WAA-Z82I</td>\n",
              "      <td>Pure Leather Sling Bag with Multiple Pockets a...</td>\n",
              "      <td>1</td>\n",
              "      <td>₹1,099.00</td>\n",
              "      <td>₹84.96</td>\n",
              "      <td>NaN</td>\n",
              "      <td>Delivered to buyer</td>\n",
              "    </tr>\n",
              "  </tbody>\n",
              "</table>\n",
              "</div>\n",
              "      <button class=\"colab-df-convert\" onclick=\"convertToInteractive('df-13fb62f9-5657-45fa-b372-824eb9f2dd7d')\"\n",
              "              title=\"Convert this dataframe to an interactive table.\"\n",
              "              style=\"display:none;\">\n",
              "        \n",
              "  <svg xmlns=\"http://www.w3.org/2000/svg\" height=\"24px\"viewBox=\"0 0 24 24\"\n",
              "       width=\"24px\">\n",
              "    <path d=\"M0 0h24v24H0V0z\" fill=\"none\"/>\n",
              "    <path d=\"M18.56 5.44l.94 2.06.94-2.06 2.06-.94-2.06-.94-.94-2.06-.94 2.06-2.06.94zm-11 1L8.5 8.5l.94-2.06 2.06-.94-2.06-.94L8.5 2.5l-.94 2.06-2.06.94zm10 10l.94 2.06.94-2.06 2.06-.94-2.06-.94-.94-2.06-.94 2.06-2.06.94z\"/><path d=\"M17.41 7.96l-1.37-1.37c-.4-.4-.92-.59-1.43-.59-.52 0-1.04.2-1.43.59L10.3 9.45l-7.72 7.72c-.78.78-.78 2.05 0 2.83L4 21.41c.39.39.9.59 1.41.59.51 0 1.02-.2 1.41-.59l7.78-7.78 2.81-2.81c.8-.78.8-2.07 0-2.86zM5.41 20L4 18.59l7.72-7.72 1.47 1.35L5.41 20z\"/>\n",
              "  </svg>\n",
              "      </button>\n",
              "      \n",
              "  <style>\n",
              "    .colab-df-container {\n",
              "      display:flex;\n",
              "      flex-wrap:wrap;\n",
              "      gap: 12px;\n",
              "    }\n",
              "\n",
              "    .colab-df-convert {\n",
              "      background-color: #E8F0FE;\n",
              "      border: none;\n",
              "      border-radius: 50%;\n",
              "      cursor: pointer;\n",
              "      display: none;\n",
              "      fill: #1967D2;\n",
              "      height: 32px;\n",
              "      padding: 0 0 0 0;\n",
              "      width: 32px;\n",
              "    }\n",
              "\n",
              "    .colab-df-convert:hover {\n",
              "      background-color: #E2EBFA;\n",
              "      box-shadow: 0px 1px 2px rgba(60, 64, 67, 0.3), 0px 1px 3px 1px rgba(60, 64, 67, 0.15);\n",
              "      fill: #174EA6;\n",
              "    }\n",
              "\n",
              "    [theme=dark] .colab-df-convert {\n",
              "      background-color: #3B4455;\n",
              "      fill: #D2E3FC;\n",
              "    }\n",
              "\n",
              "    [theme=dark] .colab-df-convert:hover {\n",
              "      background-color: #434B5C;\n",
              "      box-shadow: 0px 1px 3px 1px rgba(0, 0, 0, 0.15);\n",
              "      filter: drop-shadow(0px 1px 2px rgba(0, 0, 0, 0.3));\n",
              "      fill: #FFFFFF;\n",
              "    }\n",
              "  </style>\n",
              "\n",
              "      <script>\n",
              "        const buttonEl =\n",
              "          document.querySelector('#df-13fb62f9-5657-45fa-b372-824eb9f2dd7d button.colab-df-convert');\n",
              "        buttonEl.style.display =\n",
              "          google.colab.kernel.accessAllowed ? 'block' : 'none';\n",
              "\n",
              "        async function convertToInteractive(key) {\n",
              "          const element = document.querySelector('#df-13fb62f9-5657-45fa-b372-824eb9f2dd7d');\n",
              "          const dataTable =\n",
              "            await google.colab.kernel.invokeFunction('convertToInteractive',\n",
              "                                                     [key], {});\n",
              "          if (!dataTable) return;\n",
              "\n",
              "          const docLinkHtml = 'Like what you see? Visit the ' +\n",
              "            '<a target=\"_blank\" href=https://colab.research.google.com/notebooks/data_table.ipynb>data table notebook</a>'\n",
              "            + ' to learn more about interactive tables.';\n",
              "          element.innerHTML = '';\n",
              "          dataTable['output_type'] = 'display_data';\n",
              "          await google.colab.output.renderOutput(dataTable, element);\n",
              "          const docLink = document.createElement('div');\n",
              "          docLink.innerHTML = docLinkHtml;\n",
              "          element.appendChild(docLink);\n",
              "        }\n",
              "      </script>\n",
              "    </div>\n",
              "  </div>\n",
              "  "
            ]
          },
          "metadata": {},
          "execution_count": 2
        }
      ]
    },
    {
      "cell_type": "markdown",
      "source": [
        "# Checking Data set"
      ],
      "metadata": {
        "id": "-pVQVH7f-mw0"
      }
    },
    {
      "cell_type": "code",
      "source": [
        "data.shape"
      ],
      "metadata": {
        "colab": {
          "base_uri": "https://localhost:8080/"
        },
        "id": "uUXfJCQKEWNU",
        "outputId": "826d9478-bea9-4e5c-f650-a44cd85c911e"
      },
      "execution_count": 3,
      "outputs": [
        {
          "output_type": "execute_result",
          "data": {
            "text/plain": [
              "(171, 12)"
            ]
          },
          "metadata": {},
          "execution_count": 3
        }
      ]
    },
    {
      "cell_type": "code",
      "source": [
        "data.info()"
      ],
      "metadata": {
        "colab": {
          "base_uri": "https://localhost:8080/"
        },
        "id": "9xaZh5YnFLR2",
        "outputId": "1c42d0db-5284-4344-b2b5-56f47d5c656c"
      },
      "execution_count": 4,
      "outputs": [
        {
          "output_type": "stream",
          "name": "stdout",
          "text": [
            "<class 'pandas.core.frame.DataFrame'>\n",
            "RangeIndex: 171 entries, 0 to 170\n",
            "Data columns (total 12 columns):\n",
            " #   Column        Non-Null Count  Dtype \n",
            "---  ------        --------------  ----- \n",
            " 0   order_no      171 non-null    object\n",
            " 1   order_date    171 non-null    object\n",
            " 2   buyer         171 non-null    object\n",
            " 3   ship_city     171 non-null    object\n",
            " 4   ship_state    171 non-null    object\n",
            " 5   sku           171 non-null    object\n",
            " 6   description   171 non-null    object\n",
            " 7   quantity      171 non-null    int64 \n",
            " 8   item_total    153 non-null    object\n",
            " 9   shipping_fee  145 non-null    object\n",
            " 10  cod           47 non-null     object\n",
            " 11  order_status  171 non-null    object\n",
            "dtypes: int64(1), object(11)\n",
            "memory usage: 16.2+ KB\n"
          ]
        }
      ]
    },
    {
      "cell_type": "markdown",
      "source": [
        "*Creating a copy of main dataset*"
      ],
      "metadata": {
        "id": "nHkfox3g-tI4"
      }
    },
    {
      "cell_type": "code",
      "source": [
        "df = data.copy()"
      ],
      "metadata": {
        "id": "ucylmF75THDa"
      },
      "execution_count": 5,
      "outputs": []
    },
    {
      "cell_type": "markdown",
      "source": [
        "*Checking null values*"
      ],
      "metadata": {
        "id": "psEUHYBN-zZl"
      }
    },
    {
      "cell_type": "code",
      "source": [
        "df.isnull().sum()"
      ],
      "metadata": {
        "colab": {
          "base_uri": "https://localhost:8080/"
        },
        "id": "uoBczObxEOVB",
        "outputId": "474cc860-b9b8-4530-f50a-f656684d1986"
      },
      "execution_count": 6,
      "outputs": [
        {
          "output_type": "execute_result",
          "data": {
            "text/plain": [
              "order_no          0\n",
              "order_date        0\n",
              "buyer             0\n",
              "ship_city         0\n",
              "ship_state        0\n",
              "sku               0\n",
              "description       0\n",
              "quantity          0\n",
              "item_total       18\n",
              "shipping_fee     26\n",
              "cod             124\n",
              "order_status      0\n",
              "dtype: int64"
            ]
          },
          "metadata": {},
          "execution_count": 6
        }
      ]
    },
    {
      "cell_type": "markdown",
      "source": [
        "*Performing cleaning(REPLACE MISSING VALUE, REPLACE SYMBOLS etc.)*"
      ],
      "metadata": {
        "id": "jYMqNN87--M5"
      }
    },
    {
      "cell_type": "code",
      "source": [
        "df['ship_city'] = df['ship_city'].apply(lambda x: x.replace(',',''))"
      ],
      "metadata": {
        "id": "GrE69YhcDuQn"
      },
      "execution_count": 7,
      "outputs": []
    },
    {
      "cell_type": "code",
      "source": [
        "df['shipping_fee'].fillna(data['shipping_fee'].mode()[0],inplace = True)"
      ],
      "metadata": {
        "id": "aRbNR-44F23K"
      },
      "execution_count": 8,
      "outputs": []
    },
    {
      "cell_type": "code",
      "source": [
        "df['item_total'].fillna(data['item_total'].mode()[0],inplace = True)"
      ],
      "metadata": {
        "id": "Q5S3kByEIJXY"
      },
      "execution_count": 9,
      "outputs": []
    },
    {
      "cell_type": "code",
      "source": [
        "df['cod'].fillna('Online',inplace = True)"
      ],
      "metadata": {
        "id": "7E_8PRbwIhlN"
      },
      "execution_count": 10,
      "outputs": []
    },
    {
      "cell_type": "markdown",
      "source": [
        "\n",
        "\n",
        "*   Created Function for remove symbol\n",
        "\n",
        "\n"
      ],
      "metadata": {
        "id": "32HGq_Py_V5f"
      }
    },
    {
      "cell_type": "code",
      "source": [
        "def rem_sym(d,col):\n",
        "  li = []\n",
        "  for i in d[col]:\n",
        "    li.append(i[1:])\n",
        "  d.drop([col],axis=1,inplace= True)\n",
        "  d[col]= li\n",
        "  d[col]=d[col].apply(lambda x: x.replace(',',''))\n",
        "  return \"Symbols Removed\"\n"
      ],
      "metadata": {
        "id": "jCUtV1MIS_M5"
      },
      "execution_count": 11,
      "outputs": []
    },
    {
      "cell_type": "code",
      "source": [
        "rem_sym(df,'item_total')\n",
        "rem_sym(df,'shipping_fee')"
      ],
      "metadata": {
        "colab": {
          "base_uri": "https://localhost:8080/",
          "height": 35
        },
        "id": "XeSFE88iS55O",
        "outputId": "9de8fc5e-465c-452c-9d7e-809b6428a7a4"
      },
      "execution_count": 12,
      "outputs": [
        {
          "output_type": "execute_result",
          "data": {
            "text/plain": [
              "'Symbols Removed'"
            ],
            "application/vnd.google.colaboratory.intrinsic+json": {
              "type": "string"
            }
          },
          "metadata": {},
          "execution_count": 12
        }
      ]
    },
    {
      "cell_type": "markdown",
      "source": [
        "\n",
        "\n",
        "*   Function for change data types\n",
        "\n"
      ],
      "metadata": {
        "id": "t9kkvRVn_gbO"
      }
    },
    {
      "cell_type": "code",
      "source": [
        "def toNumeric(d, col):\n",
        "  d[col] = pd.to_numeric(d[col])\n",
        "  return \"Type Converted\""
      ],
      "metadata": {
        "id": "jXaUxcYsXc-U"
      },
      "execution_count": 13,
      "outputs": []
    },
    {
      "cell_type": "code",
      "source": [
        "toNumeric(df,'item_total')\n",
        "toNumeric(df,'shipping_fee')"
      ],
      "metadata": {
        "colab": {
          "base_uri": "https://localhost:8080/",
          "height": 35
        },
        "id": "VZmHZHvDXd9c",
        "outputId": "954bc72a-0111-4b54-a442-af7efcf6bf43"
      },
      "execution_count": 14,
      "outputs": [
        {
          "output_type": "execute_result",
          "data": {
            "text/plain": [
              "'Type Converted'"
            ],
            "application/vnd.google.colaboratory.intrinsic+json": {
              "type": "string"
            }
          },
          "metadata": {},
          "execution_count": 14
        }
      ]
    },
    {
      "cell_type": "code",
      "source": [
        "df.dtypes"
      ],
      "metadata": {
        "colab": {
          "base_uri": "https://localhost:8080/"
        },
        "id": "1QfeCp83YBEn",
        "outputId": "2c5a93a6-3e37-40da-9056-3241f09ea7b7"
      },
      "execution_count": 15,
      "outputs": [
        {
          "output_type": "execute_result",
          "data": {
            "text/plain": [
              "order_no         object\n",
              "order_date       object\n",
              "buyer            object\n",
              "ship_city        object\n",
              "ship_state       object\n",
              "sku              object\n",
              "description      object\n",
              "quantity          int64\n",
              "cod              object\n",
              "order_status     object\n",
              "item_total      float64\n",
              "shipping_fee    float64\n",
              "dtype: object"
            ]
          },
          "metadata": {},
          "execution_count": 15
        }
      ]
    },
    {
      "cell_type": "markdown",
      "source": [
        "# Extracting Data\n"
      ],
      "metadata": {
        "id": "3p7tX1vKht6C"
      }
    },
    {
      "cell_type": "code",
      "source": [
        "df['Year'] = pd.DatetimeIndex(df['order_date']).year\n",
        "df['Month'] = pd.DatetimeIndex(df['order_date']).month_name()\n",
        "df['Day'] = pd.DatetimeIndex(df['order_date']).day_name()"
      ],
      "metadata": {
        "colab": {
          "base_uri": "https://localhost:8080/"
        },
        "id": "PPZVp33GhtGP",
        "outputId": "f44c754d-66b3-41c9-f2ac-d949f9ce8b66"
      },
      "execution_count": 16,
      "outputs": [
        {
          "output_type": "stream",
          "name": "stderr",
          "text": [
            "/usr/local/lib/python3.7/dist-packages/dateutil/parser/_parser.py:1212: UnknownTimezoneWarning: tzname IST identified but not understood.  Pass `tzinfos` argument in order to correctly return a timezone-aware datetime.  In a future version, this will raise an exception.\n",
            "  category=UnknownTimezoneWarning)\n"
          ]
        }
      ]
    },
    {
      "cell_type": "markdown",
      "source": [
        "# Droping Feature"
      ],
      "metadata": {
        "id": "hZqjz1OPjDqz"
      }
    },
    {
      "cell_type": "markdown",
      "source": [
        "*Droping the columns which we do not need*"
      ],
      "metadata": {
        "id": "9CijUu___2K8"
      }
    },
    {
      "cell_type": "code",
      "source": [
        "df.drop(['order_no','order_date','buyer','description','ship_city'],axis = 1, inplace=True)"
      ],
      "metadata": {
        "id": "E4CCj_FhigQi"
      },
      "execution_count": 17,
      "outputs": []
    },
    {
      "cell_type": "markdown",
      "source": [
        "# Encoding Data"
      ],
      "metadata": {
        "id": "3TVUKvA0jjaq"
      }
    },
    {
      "cell_type": "markdown",
      "source": [
        "*Encoding String value to numeric*"
      ],
      "metadata": {
        "id": "fWUgdc59_tf-"
      }
    },
    {
      "cell_type": "code",
      "source": [
        "from sklearn.preprocessing import LabelEncoder\n",
        "le = LabelEncoder()\n",
        "df['sku'] = le.fit_transform(df['sku'])\n",
        "df['cod'] = le.fit_transform(df['cod'])\n",
        "df['Month'] = le.fit_transform(df['Month'])\n",
        "df['Day'] = le.fit_transform(df['Day'])\n",
        "df['ship_state'] = le.fit_transform(df['ship_state'])\n",
        "\n"
      ],
      "metadata": {
        "id": "ktQLerzgjcXP"
      },
      "execution_count": 18,
      "outputs": []
    },
    {
      "cell_type": "markdown",
      "source": [
        "# Balancing Data"
      ],
      "metadata": {
        "id": "shFV7sS2liiV"
      }
    },
    {
      "cell_type": "markdown",
      "source": [
        "*Checking Whether Our Data Balanced or not*"
      ],
      "metadata": {
        "id": "9rE3hlS9AAGE"
      }
    },
    {
      "cell_type": "code",
      "source": [
        "x = df.drop(['order_status'],axis = 1)\n",
        "y = df['order_status']"
      ],
      "metadata": {
        "id": "kKFerGcil-uf"
      },
      "execution_count": 19,
      "outputs": []
    },
    {
      "cell_type": "code",
      "source": [
        "sns.countplot(y)"
      ],
      "metadata": {
        "colab": {
          "base_uri": "https://localhost:8080/",
          "height": 352
        },
        "id": "XHKvddVblHoR",
        "outputId": "2178da05-2b2c-4364-afe1-ad6b852d8ad5"
      },
      "execution_count": 20,
      "outputs": [
        {
          "output_type": "stream",
          "name": "stderr",
          "text": [
            "/usr/local/lib/python3.7/dist-packages/seaborn/_decorators.py:43: FutureWarning: Pass the following variable as a keyword arg: x. From version 0.12, the only valid positional argument will be `data`, and passing other arguments without an explicit keyword will result in an error or misinterpretation.\n",
            "  FutureWarning\n"
          ]
        },
        {
          "output_type": "execute_result",
          "data": {
            "text/plain": [
              "<matplotlib.axes._subplots.AxesSubplot at 0x7fed6196a290>"
            ]
          },
          "metadata": {},
          "execution_count": 20
        },
        {
          "output_type": "display_data",
          "data": {
            "text/plain": [
              "<Figure size 432x288 with 1 Axes>"
            ],
            "image/png": "[encoded data removed]"
          },
          "metadata": {
            "needs_background": "light"
          }
        }
      ]
    },
    {
      "cell_type": "markdown",
      "source": [
        "*Balancing our data using smote*"
      ],
      "metadata": {
        "id": "VACUQO3CAZIm"
      }
    },
    {
      "cell_type": "code",
      "source": [
        "sm = SMOTE()\n",
        "train , target = sm.fit_resample(x,y)"
      ],
      "metadata": {
        "id": "_QIAlkFVmO8k"
      },
      "execution_count": 21,
      "outputs": []
    },
    {
      "cell_type": "code",
      "source": [
        "sns.countplot(target)"
      ],
      "metadata": {
        "colab": {
          "base_uri": "https://localhost:8080/",
          "height": 352
        },
        "id": "sNL2JY_ZmtKS",
        "outputId": "1d976104-9b58-4e68-9730-7639056a02dc"
      },
      "execution_count": 22,
      "outputs": [
        {
          "output_type": "stream",
          "name": "stderr",
          "text": [
            "/usr/local/lib/python3.7/dist-packages/seaborn/_decorators.py:43: FutureWarning: Pass the following variable as a keyword arg: x. From version 0.12, the only valid positional argument will be `data`, and passing other arguments without an explicit keyword will result in an error or misinterpretation.\n",
            "  FutureWarning\n"
          ]
        },
        {
          "output_type": "execute_result",
          "data": {
            "text/plain": [
              "<matplotlib.axes._subplots.AxesSubplot at 0x7fed5fbed1d0>"
            ]
          },
          "metadata": {},
          "execution_count": 22
        },
        {
          "output_type": "display_data",
          "data": {
            "text/plain": [
              "<Figure size 432x288 with 1 Axes>"
            ],
            "image/png": "[encoded data removed]"
          },
          "metadata": {
            "needs_background": "light"
          }
        }
      ]
    },
    {
      "cell_type": "markdown",
      "source": [
        "# Feeding Model"
      ],
      "metadata": {
        "id": "fUgvwyDTnBp-"
      }
    },
    {
      "cell_type": "markdown",
      "source": [
        "*Spliting our data set into train and test, then training our model*\n",
        "*, Here we have trained a Logistic Regression Model*"
      ],
      "metadata": {
        "id": "un_kl9peAhAn"
      }
    },
    {
      "cell_type": "code",
      "source": [
        "x_train,x_test,y_train,y_test = train_test_split(train,target, test_size= 0.20,random_state= 42)\n",
        "LR = LogisticRegression()\n",
        "LR.fit(x_train,y_train)\n",
        "prediction = LR.predict(x_test)"
      ],
      "metadata": {
        "colab": {
          "base_uri": "https://localhost:8080/"
        },
        "id": "e7I8rFBamvFl",
        "outputId": "87713cdf-5d7a-4520-d3b8-5d30c2cee00a"
      },
      "execution_count": 23,
      "outputs": [
        {
          "output_type": "stream",
          "name": "stderr",
          "text": [
            "/usr/local/lib/python3.7/dist-packages/sklearn/linear_model/_logistic.py:818: ConvergenceWarning: lbfgs failed to converge (status=1):\n",
            "STOP: TOTAL NO. of ITERATIONS REACHED LIMIT.\n",
            "\n",
            "Increase the number of iterations (max_iter) or scale the data as shown in:\n",
            "    https://scikit-learn.org/stable/modules/preprocessing.html\n",
            "Please also refer to the documentation for alternative solver options:\n",
            "    https://scikit-learn.org/stable/modules/linear_model.html#logistic-regression\n",
            "  extra_warning_msg=_LOGISTIC_SOLVER_CONVERGENCE_MSG,\n"
          ]
        }
      ]
    },
    {
      "cell_type": "markdown",
      "source": [
        "# Result With Logistic Reg."
      ],
      "metadata": {
        "id": "ewcZOWqDrHyk"
      }
    },
    {
      "cell_type": "code",
      "source": [
        "print(classification_report(y_test,prediction))"
      ],
      "metadata": {
        "colab": {
          "base_uri": "https://localhost:8080/"
        },
        "id": "-RorGgxTnKiW",
        "outputId": "f109886f-8b63-4795-e360-b24eed8f4fcb"
      },
      "execution_count": 24,
      "outputs": [
        {
          "output_type": "stream",
          "name": "stdout",
          "text": [
            "                    precision    recall  f1-score   support\n",
            "\n",
            "Delivered to buyer       0.86      0.75      0.80        32\n",
            "Returned to seller       0.78      0.88      0.82        32\n",
            "\n",
            "          accuracy                           0.81        64\n",
            "         macro avg       0.82      0.81      0.81        64\n",
            "      weighted avg       0.82      0.81      0.81        64\n",
            "\n"
          ]
        }
      ]
    },
    {
      "cell_type": "markdown",
      "source": [
        "# Result With Decision Tree"
      ],
      "metadata": {
        "id": "SJODDstzrRG7"
      }
    },
    {
      "cell_type": "markdown",
      "source": [
        "*Here We Are Fitting our data into a Decition Tree Model*"
      ],
      "metadata": {
        "id": "FKWcW8hWA12-"
      }
    },
    {
      "cell_type": "code",
      "source": [
        "model = DecisionTreeClassifier()\n",
        "model.fit(x_train,y_train)\n",
        "result = model.score(x_test,y_test)\n",
        "pred = model.predict(x_test)\n",
        "print(\"Accuracy by using Decision Tree Classifier:\",round(result*100))"
      ],
      "metadata": {
        "colab": {
          "base_uri": "https://localhost:8080/"
        },
        "id": "WXT7I6YKnjg1",
        "outputId": "cb0f9a24-59b7-41ab-bbb1-fd0f6c6665ca"
      },
      "execution_count": 25,
      "outputs": [
        {
          "output_type": "stream",
          "name": "stdout",
          "text": [
            "Accuracy by using Decision Tree Classifier: 94\n"
          ]
        }
      ]
    },
    {
      "cell_type": "markdown",
      "source": [
        "# Result With KFold Cross Validation"
      ],
      "metadata": {
        "id": "s1UukC21rVPT"
      }
    },
    {
      "cell_type": "markdown",
      "source": [
        "*Fitting our dataset into KFold*"
      ],
      "metadata": {
        "id": "JzDFI6orA9f-"
      }
    },
    {
      "cell_type": "code",
      "source": [
        "model = DecisionTreeClassifier()\n",
        "KF_val = KFold(10)\n",
        "\n",
        "result = cross_val_score(model,train,target,cv=KF_val)\n",
        "\n",
        "res = pd.DataFrame(result)\n",
        "res.columns = ['Val_Accuracy']\n",
        "res"
      ],
      "metadata": {
        "colab": {
          "base_uri": "https://localhost:8080/",
          "height": 363
        },
        "id": "y-N5FIjHnPIU",
        "outputId": "4600c41d-6a09-4b8c-b7c4-c6d17571cc78"
      },
      "execution_count": 26,
      "outputs": [
        {
          "output_type": "execute_result",
          "data": {
            "text/plain": [
              "   Val_Accuracy\n",
              "0       0.81250\n",
              "1       0.84375\n",
              "2       0.87500\n",
              "3       0.87500\n",
              "4       0.71875\n",
              "5       0.96875\n",
              "6       0.93750\n",
              "7       0.81250\n",
              "8       1.00000\n",
              "9       0.96875"
            ],
            "text/html": [
              "\n",
              "  <div id=\"df-8c21c3d5-7dc9-4834-a3ae-ebadfef08710\">\n",
              "    <div class=\"colab-df-container\">\n",
              "      <div>\n",
              "<style scoped>\n",
              "    .dataframe tbody tr th:only-of-type {\n",
              "        vertical-align: middle;\n",
              "    }\n",
              "\n",
              "    .dataframe tbody tr th {\n",
              "        vertical-align: top;\n",
              "    }\n",
              "\n",
              "    .dataframe thead th {\n",
              "        text-align: right;\n",
              "    }\n",
              "</style>\n",
              "<table border=\"1\" class=\"dataframe\">\n",
              "  <thead>\n",
              "    <tr style=\"text-align: right;\">\n",
              "      <th></th>\n",
              "      <th>Val_Accuracy</th>\n",
              "    </tr>\n",
              "  </thead>\n",
              "  <tbody>\n",
              "    <tr>\n",
              "      <th>0</th>\n",
              "      <td>0.81250</td>\n",
              "    </tr>\n",
              "    <tr>\n",
              "      <th>1</th>\n",
              "      <td>0.84375</td>\n",
              "    </tr>\n",
              "    <tr>\n",
              "      <th>2</th>\n",
              "      <td>0.87500</td>\n",
              "    </tr>\n",
              "    <tr>\n",
              "      <th>3</th>\n",
              "      <td>0.87500</td>\n",
              "    </tr>\n",
              "    <tr>\n",
              "      <th>4</th>\n",
              "      <td>0.71875</td>\n",
              "    </tr>\n",
              "    <tr>\n",
              "      <th>5</th>\n",
              "      <td>0.96875</td>\n",
              "    </tr>\n",
              "    <tr>\n",
              "      <th>6</th>\n",
              "      <td>0.93750</td>\n",
              "    </tr>\n",
              "    <tr>\n",
              "      <th>7</th>\n",
              "      <td>0.81250</td>\n",
              "    </tr>\n",
              "    <tr>\n",
              "      <th>8</th>\n",
              "      <td>1.00000</td>\n",
              "    </tr>\n",
              "    <tr>\n",
              "      <th>9</th>\n",
              "      <td>0.96875</td>\n",
              "    </tr>\n",
              "  </tbody>\n",
              "</table>\n",
              "</div>\n",
              "      <button class=\"colab-df-convert\" onclick=\"convertToInteractive('df-8c21c3d5-7dc9-4834-a3ae-ebadfef08710')\"\n",
              "              title=\"Convert this dataframe to an interactive table.\"\n",
              "              style=\"display:none;\">\n",
              "        \n",
              "  <svg xmlns=\"http://www.w3.org/2000/svg\" height=\"24px\"viewBox=\"0 0 24 24\"\n",
              "       width=\"24px\">\n",
              "    <path d=\"M0 0h24v24H0V0z\" fill=\"none\"/>\n",
              "    <path d=\"M18.56 5.44l.94 2.06.94-2.06 2.06-.94-2.06-.94-.94-2.06-.94 2.06-2.06.94zm-11 1L8.5 8.5l.94-2.06 2.06-.94-2.06-.94L8.5 2.5l-.94 2.06-2.06.94zm10 10l.94 2.06.94-2.06 2.06-.94-2.06-.94-.94-2.06-.94 2.06-2.06.94z\"/><path d=\"M17.41 7.96l-1.37-1.37c-.4-.4-.92-.59-1.43-.59-.52 0-1.04.2-1.43.59L10.3 9.45l-7.72 7.72c-.78.78-.78 2.05 0 2.83L4 21.41c.39.39.9.59 1.41.59.51 0 1.02-.2 1.41-.59l7.78-7.78 2.81-2.81c.8-.78.8-2.07 0-2.86zM5.41 20L4 18.59l7.72-7.72 1.47 1.35L5.41 20z\"/>\n",
              "  </svg>\n",
              "      </button>\n",
              "      \n",
              "  <style>\n",
              "    .colab-df-container {\n",
              "      display:flex;\n",
              "      flex-wrap:wrap;\n",
              "      gap: 12px;\n",
              "    }\n",
              "\n",
              "    .colab-df-convert {\n",
              "      background-color: #E8F0FE;\n",
              "      border: none;\n",
              "      border-radius: 50%;\n",
              "      cursor: pointer;\n",
              "      display: none;\n",
              "      fill: #1967D2;\n",
              "      height: 32px;\n",
              "      padding: 0 0 0 0;\n",
              "      width: 32px;\n",
              "    }\n",
              "\n",
              "    .colab-df-convert:hover {\n",
              "      background-color: #E2EBFA;\n",
              "      box-shadow: 0px 1px 2px rgba(60, 64, 67, 0.3), 0px 1px 3px 1px rgba(60, 64, 67, 0.15);\n",
              "      fill: #174EA6;\n",
              "    }\n",
              "\n",
              "    [theme=dark] .colab-df-convert {\n",
              "      background-color: #3B4455;\n",
              "      fill: #D2E3FC;\n",
              "    }\n",
              "\n",
              "    [theme=dark] .colab-df-convert:hover {\n",
              "      background-color: #434B5C;\n",
              "      box-shadow: 0px 1px 3px 1px rgba(0, 0, 0, 0.15);\n",
              "      filter: drop-shadow(0px 1px 2px rgba(0, 0, 0, 0.3));\n",
              "      fill: #FFFFFF;\n",
              "    }\n",
              "  </style>\n",
              "\n",
              "      <script>\n",
              "        const buttonEl =\n",
              "          document.querySelector('#df-8c21c3d5-7dc9-4834-a3ae-ebadfef08710 button.colab-df-convert');\n",
              "        buttonEl.style.display =\n",
              "          google.colab.kernel.accessAllowed ? 'block' : 'none';\n",
              "\n",
              "        async function convertToInteractive(key) {\n",
              "          const element = document.querySelector('#df-8c21c3d5-7dc9-4834-a3ae-ebadfef08710');\n",
              "          const dataTable =\n",
              "            await google.colab.kernel.invokeFunction('convertToInteractive',\n",
              "                                                     [key], {});\n",
              "          if (!dataTable) return;\n",
              "\n",
              "          const docLinkHtml = 'Like what you see? Visit the ' +\n",
              "            '<a target=\"_blank\" href=https://colab.research.google.com/notebooks/data_table.ipynb>data table notebook</a>'\n",
              "            + ' to learn more about interactive tables.';\n",
              "          element.innerHTML = '';\n",
              "          dataTable['output_type'] = 'display_data';\n",
              "          await google.colab.output.renderOutput(dataTable, element);\n",
              "          const docLink = document.createElement('div');\n",
              "          docLink.innerHTML = docLinkHtml;\n",
              "          element.appendChild(docLink);\n",
              "        }\n",
              "      </script>\n",
              "    </div>\n",
              "  </div>\n",
              "  "
            ]
          },
          "metadata": {},
          "execution_count": 26
        }
      ]
    },
    {
      "cell_type": "markdown",
      "source": [
        "# Creating Dataset"
      ],
      "metadata": {
        "id": "Oiz5WzsCrc1I"
      }
    },
    {
      "cell_type": "markdown",
      "source": [
        "*Checking The Prediction and Creating dataset for train test and result*"
      ],
      "metadata": {
        "id": "5CLv3nqGBGKP"
      }
    },
    {
      "cell_type": "code",
      "source": [
        "result = pd.DataFrame(y_test)\n",
        "result['Prediction'] = pred"
      ],
      "metadata": {
        "id": "sAwJFr_mrepg"
      },
      "execution_count": 27,
      "outputs": []
    },
    {
      "cell_type": "code",
      "source": [
        "result.head(10)"
      ],
      "metadata": {
        "colab": {
          "base_uri": "https://localhost:8080/",
          "height": 363
        },
        "id": "r6SgNnF6sDZk",
        "outputId": "68da6c24-2c4c-4564-c4dd-deb3c4d3e875"
      },
      "execution_count": 32,
      "outputs": [
        {
          "output_type": "execute_result",
          "data": {
            "text/plain": [
              "           order_status          Prediction\n",
              "167  Delivered to buyer  Delivered to buyer\n",
              "230  Returned to seller  Returned to seller\n",
              "25   Delivered to buyer  Delivered to buyer\n",
              "63   Delivered to buyer  Delivered to buyer\n",
              "9    Delivered to buyer  Delivered to buyer\n",
              "110  Delivered to buyer  Delivered to buyer\n",
              "186  Returned to seller  Returned to seller\n",
              "143  Delivered to buyer  Delivered to buyer\n",
              "244  Returned to seller  Returned to seller\n",
              "224  Returned to seller  Returned to seller"
            ],
            "text/html": [
              "\n",
              "  <div id=\"df-8a9464aa-2e7e-4e8e-be7d-a5d84a9dd81e\">\n",
              "    <div class=\"colab-df-container\">\n",
              "      <div>\n",
              "<style scoped>\n",
              "    .dataframe tbody tr th:only-of-type {\n",
              "        vertical-align: middle;\n",
              "    }\n",
              "\n",
              "    .dataframe tbody tr th {\n",
              "        vertical-align: top;\n",
              "    }\n",
              "\n",
              "    .dataframe thead th {\n",
              "        text-align: right;\n",
              "    }\n",
              "</style>\n",
              "<table border=\"1\" class=\"dataframe\">\n",
              "  <thead>\n",
              "    <tr style=\"text-align: right;\">\n",
              "      <th></th>\n",
              "      <th>order_status</th>\n",
              "      <th>Prediction</th>\n",
              "    </tr>\n",
              "  </thead>\n",
              "  <tbody>\n",
              "    <tr>\n",
              "      <th>167</th>\n",
              "      <td>Delivered to buyer</td>\n",
              "      <td>Delivered to buyer</td>\n",
              "    </tr>\n",
              "    <tr>\n",
              "      <th>230</th>\n",
              "      <td>Returned to seller</td>\n",
              "      <td>Returned to seller</td>\n",
              "    </tr>\n",
              "    <tr>\n",
              "      <th>25</th>\n",
              "      <td>Delivered to buyer</td>\n",
              "      <td>Delivered to buyer</td>\n",
              "    </tr>\n",
              "    <tr>\n",
              "      <th>63</th>\n",
              "      <td>Delivered to buyer</td>\n",
              "      <td>Delivered to buyer</td>\n",
              "    </tr>\n",
              "    <tr>\n",
              "      <th>9</th>\n",
              "      <td>Delivered to buyer</td>\n",
              "      <td>Delivered to buyer</td>\n",
              "    </tr>\n",
              "    <tr>\n",
              "      <th>110</th>\n",
              "      <td>Delivered to buyer</td>\n",
              "      <td>Delivered to buyer</td>\n",
              "    </tr>\n",
              "    <tr>\n",
              "      <th>186</th>\n",
              "      <td>Returned to seller</td>\n",
              "      <td>Returned to seller</td>\n",
              "    </tr>\n",
              "    <tr>\n",
              "      <th>143</th>\n",
              "      <td>Delivered to buyer</td>\n",
              "      <td>Delivered to buyer</td>\n",
              "    </tr>\n",
              "    <tr>\n",
              "      <th>244</th>\n",
              "      <td>Returned to seller</td>\n",
              "      <td>Returned to seller</td>\n",
              "    </tr>\n",
              "    <tr>\n",
              "      <th>224</th>\n",
              "      <td>Returned to seller</td>\n",
              "      <td>Returned to seller</td>\n",
              "    </tr>\n",
              "  </tbody>\n",
              "</table>\n",
              "</div>\n",
              "      <button class=\"colab-df-convert\" onclick=\"convertToInteractive('df-8a9464aa-2e7e-4e8e-be7d-a5d84a9dd81e')\"\n",
              "              title=\"Convert this dataframe to an interactive table.\"\n",
              "              style=\"display:none;\">\n",
              "        \n",
              "  <svg xmlns=\"http://www.w3.org/2000/svg\" height=\"24px\"viewBox=\"0 0 24 24\"\n",
              "       width=\"24px\">\n",
              "    <path d=\"M0 0h24v24H0V0z\" fill=\"none\"/>\n",
              "    <path d=\"M18.56 5.44l.94 2.06.94-2.06 2.06-.94-2.06-.94-.94-2.06-.94 2.06-2.06.94zm-11 1L8.5 8.5l.94-2.06 2.06-.94-2.06-.94L8.5 2.5l-.94 2.06-2.06.94zm10 10l.94 2.06.94-2.06 2.06-.94-2.06-.94-.94-2.06-.94 2.06-2.06.94z\"/><path d=\"M17.41 7.96l-1.37-1.37c-.4-.4-.92-.59-1.43-.59-.52 0-1.04.2-1.43.59L10.3 9.45l-7.72 7.72c-.78.78-.78 2.05 0 2.83L4 21.41c.39.39.9.59 1.41.59.51 0 1.02-.2 1.41-.59l7.78-7.78 2.81-2.81c.8-.78.8-2.07 0-2.86zM5.41 20L4 18.59l7.72-7.72 1.47 1.35L5.41 20z\"/>\n",
              "  </svg>\n",
              "      </button>\n",
              "      \n",
              "  <style>\n",
              "    .colab-df-container {\n",
              "      display:flex;\n",
              "      flex-wrap:wrap;\n",
              "      gap: 12px;\n",
              "    }\n",
              "\n",
              "    .colab-df-convert {\n",
              "      background-color: #E8F0FE;\n",
              "      border: none;\n",
              "      border-radius: 50%;\n",
              "      cursor: pointer;\n",
              "      display: none;\n",
              "      fill: #1967D2;\n",
              "      height: 32px;\n",
              "      padding: 0 0 0 0;\n",
              "      width: 32px;\n",
              "    }\n",
              "\n",
              "    .colab-df-convert:hover {\n",
              "      background-color: #E2EBFA;\n",
              "      box-shadow: 0px 1px 2px rgba(60, 64, 67, 0.3), 0px 1px 3px 1px rgba(60, 64, 67, 0.15);\n",
              "      fill: #174EA6;\n",
              "    }\n",
              "\n",
              "    [theme=dark] .colab-df-convert {\n",
              "      background-color: #3B4455;\n",
              "      fill: #D2E3FC;\n",
              "    }\n",
              "\n",
              "    [theme=dark] .colab-df-convert:hover {\n",
              "      background-color: #434B5C;\n",
              "      box-shadow: 0px 1px 3px 1px rgba(0, 0, 0, 0.15);\n",
              "      filter: drop-shadow(0px 1px 2px rgba(0, 0, 0, 0.3));\n",
              "      fill: #FFFFFF;\n",
              "    }\n",
              "  </style>\n",
              "\n",
              "      <script>\n",
              "        const buttonEl =\n",
              "          document.querySelector('#df-8a9464aa-2e7e-4e8e-be7d-a5d84a9dd81e button.colab-df-convert');\n",
              "        buttonEl.style.display =\n",
              "          google.colab.kernel.accessAllowed ? 'block' : 'none';\n",
              "\n",
              "        async function convertToInteractive(key) {\n",
              "          const element = document.querySelector('#df-8a9464aa-2e7e-4e8e-be7d-a5d84a9dd81e');\n",
              "          const dataTable =\n",
              "            await google.colab.kernel.invokeFunction('convertToInteractive',\n",
              "                                                     [key], {});\n",
              "          if (!dataTable) return;\n",
              "\n",
              "          const docLinkHtml = 'Like what you see? Visit the ' +\n",
              "            '<a target=\"_blank\" href=https://colab.research.google.com/notebooks/data_table.ipynb>data table notebook</a>'\n",
              "            + ' to learn more about interactive tables.';\n",
              "          element.innerHTML = '';\n",
              "          dataTable['output_type'] = 'display_data';\n",
              "          await google.colab.output.renderOutput(dataTable, element);\n",
              "          const docLink = document.createElement('div');\n",
              "          docLink.innerHTML = docLinkHtml;\n",
              "          element.appendChild(docLink);\n",
              "        }\n",
              "      </script>\n",
              "    </div>\n",
              "  </div>\n",
              "  "
            ]
          },
          "metadata": {},
          "execution_count": 32
        }
      ]
    },
    {
      "cell_type": "code",
      "source": [
        "train = pd.DataFrame(x_train)\n",
        "train['order_status'] = y_train"
      ],
      "metadata": {
        "id": "05x0CljS9ovO"
      },
      "execution_count": 29,
      "outputs": []
    },
    {
      "cell_type": "code",
      "source": [
        "test = pd.DataFrame(x_test)"
      ],
      "metadata": {
        "id": "jj7ksUVP93YM"
      },
      "execution_count": 30,
      "outputs": []
    },
    {
      "cell_type": "code",
      "source": [
        "train.to_csv('AOS_train.csv')\n",
        "test.to_csv('AOS_test.csv')\n",
        "result.to_csv('AOS_answer.csv')"
      ],
      "metadata": {
        "id": "8Sy1zqBw-Enk"
      },
      "execution_count": 31,
      "outputs": []
    }
  ]
}