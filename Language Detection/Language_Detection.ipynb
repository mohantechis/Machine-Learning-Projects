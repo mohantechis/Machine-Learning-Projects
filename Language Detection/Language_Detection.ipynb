{
  "nbformat": 4,
  "nbformat_minor": 0,
  "metadata": {
    "colab": {
      "name": "Language_Detection.ipynb",
      "provenance": []
    },
    "kernelspec": {
      "name": "python3",
      "display_name": "Python 3"
    },
    "language_info": {
      "name": "python"
    }
  },
  "cells": [
    {
      "cell_type": "markdown",
      "source": [
        "# Importing library\n"
      ],
      "metadata": {
        "id": "7-Sh8TXgZm6p"
      }
    },
    {
      "cell_type": "code",
      "execution_count": 75,
      "metadata": {
        "id": "LRER4eEGYGyr"
      },
      "outputs": [],
      "source": [
        "import numpy as np\n",
        "import pandas as pd\n",
        "import re\n",
        "from sklearn.metrics import accuracy_score,confusion_matrix, classification_report\n",
        "from sklearn import pipeline\n",
        "from sklearn.linear_model import LogisticRegression\n",
        "from sklearn.model_selection import train_test_split\n",
        "from sklearn.feature_extraction.text import TfidfVectorizer\n"
      ]
    },
    {
      "cell_type": "markdown",
      "source": [
        "# Reading Dataset"
      ],
      "metadata": {
        "id": "BgHuRrbcZwbt"
      }
    },
    {
      "cell_type": "code",
      "source": [
        "data = pd.read_csv(\"/content/drive/MyDrive/Datasets_PROJECTS/Language Detection.csv\")\n",
        "\n",
        "data.head()"
      ],
      "metadata": {
        "colab": {
          "base_uri": "https://localhost:8080/",
          "height": 206
        },
        "id": "6ooARlmRZmch",
        "outputId": "2eb81ea7-7356-4fa6-85b0-e687015a150b"
      },
      "execution_count": 76,
      "outputs": [
        {
          "output_type": "execute_result",
          "data": {
            "text/plain": [
              "                                                Text Language\n",
              "0   Nature, in the broadest sense, is the natural...  English\n",
              "1  \"Nature\" can refer to the phenomena of the phy...  English\n",
              "2  The study of nature is a large, if not the onl...  English\n",
              "3  Although humans are part of nature, human acti...  English\n",
              "4  [1] The word nature is borrowed from the Old F...  English"
            ],
            "text/html": [
              "\n",
              "  <div id=\"df-faf11fb9-f58c-4bdc-aeef-de8fe0169bd4\">\n",
              "    <div class=\"colab-df-container\">\n",
              "      <div>\n",
              "<style scoped>\n",
              "    .dataframe tbody tr th:only-of-type {\n",
              "        vertical-align: middle;\n",
              "    }\n",
              "\n",
              "    .dataframe tbody tr th {\n",
              "        vertical-align: top;\n",
              "    }\n",
              "\n",
              "    .dataframe thead th {\n",
              "        text-align: right;\n",
              "    }\n",
              "</style>\n",
              "<table border=\"1\" class=\"dataframe\">\n",
              "  <thead>\n",
              "    <tr style=\"text-align: right;\">\n",
              "      <th></th>\n",
              "      <th>Text</th>\n",
              "      <th>Language</th>\n",
              "    </tr>\n",
              "  </thead>\n",
              "  <tbody>\n",
              "    <tr>\n",
              "      <th>0</th>\n",
              "      <td>Nature, in the broadest sense, is the natural...</td>\n",
              "      <td>English</td>\n",
              "    </tr>\n",
              "    <tr>\n",
              "      <th>1</th>\n",
              "      <td>\"Nature\" can refer to the phenomena of the phy...</td>\n",
              "      <td>English</td>\n",
              "    </tr>\n",
              "    <tr>\n",
              "      <th>2</th>\n",
              "      <td>The study of nature is a large, if not the onl...</td>\n",
              "      <td>English</td>\n",
              "    </tr>\n",
              "    <tr>\n",
              "      <th>3</th>\n",
              "      <td>Although humans are part of nature, human acti...</td>\n",
              "      <td>English</td>\n",
              "    </tr>\n",
              "    <tr>\n",
              "      <th>4</th>\n",
              "      <td>[1] The word nature is borrowed from the Old F...</td>\n",
              "      <td>English</td>\n",
              "    </tr>\n",
              "  </tbody>\n",
              "</table>\n",
              "</div>\n",
              "      <button class=\"colab-df-convert\" onclick=\"convertToInteractive('df-faf11fb9-f58c-4bdc-aeef-de8fe0169bd4')\"\n",
              "              title=\"Convert this dataframe to an interactive table.\"\n",
              "              style=\"display:none;\">\n",
              "        \n",
              "  <svg xmlns=\"http://www.w3.org/2000/svg\" height=\"24px\"viewBox=\"0 0 24 24\"\n",
              "       width=\"24px\">\n",
              "    <path d=\"M0 0h24v24H0V0z\" fill=\"none\"/>\n",
              "    <path d=\"M18.56 5.44l.94 2.06.94-2.06 2.06-.94-2.06-.94-.94-2.06-.94 2.06-2.06.94zm-11 1L8.5 8.5l.94-2.06 2.06-.94-2.06-.94L8.5 2.5l-.94 2.06-2.06.94zm10 10l.94 2.06.94-2.06 2.06-.94-2.06-.94-.94-2.06-.94 2.06-2.06.94z\"/><path d=\"M17.41 7.96l-1.37-1.37c-.4-.4-.92-.59-1.43-.59-.52 0-1.04.2-1.43.59L10.3 9.45l-7.72 7.72c-.78.78-.78 2.05 0 2.83L4 21.41c.39.39.9.59 1.41.59.51 0 1.02-.2 1.41-.59l7.78-7.78 2.81-2.81c.8-.78.8-2.07 0-2.86zM5.41 20L4 18.59l7.72-7.72 1.47 1.35L5.41 20z\"/>\n",
              "  </svg>\n",
              "      </button>\n",
              "      \n",
              "  <style>\n",
              "    .colab-df-container {\n",
              "      display:flex;\n",
              "      flex-wrap:wrap;\n",
              "      gap: 12px;\n",
              "    }\n",
              "\n",
              "    .colab-df-convert {\n",
              "      background-color: #E8F0FE;\n",
              "      border: none;\n",
              "      border-radius: 50%;\n",
              "      cursor: pointer;\n",
              "      display: none;\n",
              "      fill: #1967D2;\n",
              "      height: 32px;\n",
              "      padding: 0 0 0 0;\n",
              "      width: 32px;\n",
              "    }\n",
              "\n",
              "    .colab-df-convert:hover {\n",
              "      background-color: #E2EBFA;\n",
              "      box-shadow: 0px 1px 2px rgba(60, 64, 67, 0.3), 0px 1px 3px 1px rgba(60, 64, 67, 0.15);\n",
              "      fill: #174EA6;\n",
              "    }\n",
              "\n",
              "    [theme=dark] .colab-df-convert {\n",
              "      background-color: #3B4455;\n",
              "      fill: #D2E3FC;\n",
              "    }\n",
              "\n",
              "    [theme=dark] .colab-df-convert:hover {\n",
              "      background-color: #434B5C;\n",
              "      box-shadow: 0px 1px 3px 1px rgba(0, 0, 0, 0.15);\n",
              "      filter: drop-shadow(0px 1px 2px rgba(0, 0, 0, 0.3));\n",
              "      fill: #FFFFFF;\n",
              "    }\n",
              "  </style>\n",
              "\n",
              "      <script>\n",
              "        const buttonEl =\n",
              "          document.querySelector('#df-faf11fb9-f58c-4bdc-aeef-de8fe0169bd4 button.colab-df-convert');\n",
              "        buttonEl.style.display =\n",
              "          google.colab.kernel.accessAllowed ? 'block' : 'none';\n",
              "\n",
              "        async function convertToInteractive(key) {\n",
              "          const element = document.querySelector('#df-faf11fb9-f58c-4bdc-aeef-de8fe0169bd4');\n",
              "          const dataTable =\n",
              "            await google.colab.kernel.invokeFunction('convertToInteractive',\n",
              "                                                     [key], {});\n",
              "          if (!dataTable) return;\n",
              "\n",
              "          const docLinkHtml = 'Like what you see? Visit the ' +\n",
              "            '<a target=\"_blank\" href=https://colab.research.google.com/notebooks/data_table.ipynb>data table notebook</a>'\n",
              "            + ' to learn more about interactive tables.';\n",
              "          element.innerHTML = '';\n",
              "          dataTable['output_type'] = 'display_data';\n",
              "          await google.colab.output.renderOutput(dataTable, element);\n",
              "          const docLink = document.createElement('div');\n",
              "          docLink.innerHTML = docLinkHtml;\n",
              "          element.appendChild(docLink);\n",
              "        }\n",
              "      </script>\n",
              "    </div>\n",
              "  </div>\n",
              "  "
            ]
          },
          "metadata": {},
          "execution_count": 76
        }
      ]
    },
    {
      "cell_type": "markdown",
      "source": [
        "# Data Preprocessing"
      ],
      "metadata": {
        "id": "yRY1vOwjv5nG"
      }
    },
    {
      "cell_type": "markdown",
      "source": [
        "Checking Value counts for language column"
      ],
      "metadata": {
        "id": "oC_hG2yKMHtW"
      }
    },
    {
      "cell_type": "code",
      "source": [
        "data['Language'].value_counts()"
      ],
      "metadata": {
        "colab": {
          "base_uri": "https://localhost:8080/"
        },
        "id": "YjrgPjBwaA6C",
        "outputId": "122ae931-8b6c-40f9-b02e-c85f73f2947d"
      },
      "execution_count": 77,
      "outputs": [
        {
          "output_type": "execute_result",
          "data": {
            "text/plain": [
              "English       1385\n",
              "French        1014\n",
              "Spanish        819\n",
              "Portugeese     739\n",
              "Italian        698\n",
              "Russian        692\n",
              "Sweedish       676\n",
              "Malayalam      594\n",
              "Dutch          546\n",
              "Arabic         536\n",
              "Turkish        474\n",
              "German         470\n",
              "Tamil          469\n",
              "Danish         428\n",
              "Kannada        369\n",
              "Greek          365\n",
              "Hindi           63\n",
              "Name: Language, dtype: int64"
            ]
          },
          "metadata": {},
          "execution_count": 77
        }
      ]
    },
    {
      "cell_type": "markdown",
      "source": [
        "Creating a function which will remove all the special character from our text column."
      ],
      "metadata": {
        "id": "9TkPXu-6MNUA"
      }
    },
    {
      "cell_type": "code",
      "source": [
        "import string\n",
        "print(string.punctuation)\n",
        "#In the place of [!@#$(),\\n%^&*?\\:;~`0-9] we can also use string.punctuation\n",
        "def remove_symbols(text):\n",
        "      text = re.sub(r'[!@#$(),\\n%^&*?\\:;~`0-9]','',text)\n",
        "      text = re.sub(r'[[]]','',text)\n",
        "      \n",
        "      return text.lower()\n",
        "\n",
        "    "
      ],
      "metadata": {
        "colab": {
          "base_uri": "https://localhost:8080/"
        },
        "id": "M9H-j55GnQRE",
        "outputId": "f9d593c6-65be-4cba-ad18-c90fd332cb44"
      },
      "execution_count": 79,
      "outputs": [
        {
          "output_type": "stream",
          "name": "stdout",
          "text": [
            "!\"#$%&'()*+,-./:;<=>?@[\\]^_`{|}~\n"
          ]
        }
      ]
    },
    {
      "cell_type": "markdown",
      "source": [
        "Creating a function Which will remove the English Alphabets from other languages."
      ],
      "metadata": {
        "id": "Ewq4q81BMbq7"
      }
    },
    {
      "cell_type": "code",
      "source": [
        "def remEngLet(text):\n",
        "  text = re.sub(r'[a-zA-Z]+','',text)\n",
        "  return text.lower()\n",
        "  "
      ],
      "metadata": {
        "id": "3LOK5gIpsy0O"
      },
      "execution_count": 80,
      "outputs": []
    },
    {
      "cell_type": "markdown",
      "source": [
        "Applying the functions"
      ],
      "metadata": {
        "id": "_NnglU_DM5BJ"
      }
    },
    {
      "cell_type": "code",
      "source": [
        "df = data.apply(lambda x: remEngLet(x.Text) if x.Language == ['Hindi','Kannada','Tamil','Arabic','Malayalam'] else x.Text, axis = 1)"
      ],
      "metadata": {
        "id": "IjkZUE5-ts7Z"
      },
      "execution_count": 82,
      "outputs": []
    },
    {
      "cell_type": "code",
      "source": [
        "df = df.apply(remove_symbols)\n"
      ],
      "metadata": {
        "id": "DKVysgSyvkfN"
      },
      "execution_count": 83,
      "outputs": []
    },
    {
      "cell_type": "markdown",
      "source": [
        "# Modeling"
      ],
      "metadata": {
        "id": "IwD8tc9AwN0V"
      }
    },
    {
      "cell_type": "markdown",
      "source": [
        "Creating two variables with two column."
      ],
      "metadata": {
        "id": "2Cy0X1FPM_k8"
      }
    },
    {
      "cell_type": "code",
      "source": [
        "y = data['Language']\n",
        "x = df\n"
      ],
      "metadata": {
        "id": "npJQ6VsCvw7a"
      },
      "execution_count": 107,
      "outputs": []
    },
    {
      "cell_type": "markdown",
      "source": [
        "Spliting our Dataset to train our model"
      ],
      "metadata": {
        "id": "mZ-TfkD6NIie"
      }
    },
    {
      "cell_type": "code",
      "source": [
        "x_train ,x_test, y_train, y_test = train_test_split(x,y,random_state=42)"
      ],
      "metadata": {
        "id": "IP7BmQOOx5NV"
      },
      "execution_count": 85,
      "outputs": []
    },
    {
      "cell_type": "markdown",
      "source": [
        "Applying Tfidf vectorizer."
      ],
      "metadata": {
        "id": "9kTBBayCNOrf"
      }
    },
    {
      "cell_type": "code",
      "source": [
        "vect = TfidfVectorizer(ngram_range=(1,3),analyzer='char')"
      ],
      "metadata": {
        "id": "j2-rW5ar8dOZ"
      },
      "execution_count": 86,
      "outputs": []
    },
    {
      "cell_type": "markdown",
      "source": [
        "Applying Pipeline"
      ],
      "metadata": {
        "id": "c0BRn9SPN2tC"
      }
    },
    {
      "cell_type": "code",
      "source": [
        "mod = pipeline.Pipeline([('vectorizer', vect),('clf', LogisticRegression())])"
      ],
      "metadata": {
        "id": "-6tvWk0b8_t1"
      },
      "execution_count": 87,
      "outputs": []
    },
    {
      "cell_type": "code",
      "source": [
        "mod.fit(x_train,y_train)"
      ],
      "metadata": {
        "colab": {
          "base_uri": "https://localhost:8080/"
        },
        "id": "XmWHQTFS9ctN",
        "outputId": "b332bbd6-5917-4a8b-9d38-a741922407ab"
      },
      "execution_count": 88,
      "outputs": [
        {
          "output_type": "execute_result",
          "data": {
            "text/plain": [
              "Pipeline(steps=[('vectorizer',\n",
              "                 TfidfVectorizer(analyzer='char', ngram_range=(1, 3))),\n",
              "                ('clf', LogisticRegression())])"
            ]
          },
          "metadata": {},
          "execution_count": 88
        }
      ]
    },
    {
      "cell_type": "markdown",
      "source": [
        "# Model Score"
      ],
      "metadata": {
        "id": "WJ3K2607-uVW"
      }
    },
    {
      "cell_type": "code",
      "source": [
        "prediction = mod.predict(x_test)"
      ],
      "metadata": {
        "id": "Ybp1iRBb9hRj"
      },
      "execution_count": 89,
      "outputs": []
    },
    {
      "cell_type": "code",
      "source": [
        "print(\"Accuracy:\",accuracy_score(y_test,prediction))"
      ],
      "metadata": {
        "colab": {
          "base_uri": "https://localhost:8080/"
        },
        "id": "bneWHORJ9gqj",
        "outputId": "27663e5e-5ee3-49e0-b9d0-a7711ff93268"
      },
      "execution_count": 90,
      "outputs": [
        {
          "output_type": "stream",
          "name": "stdout",
          "text": [
            "Accuracy: 0.9825918762088974\n"
          ]
        }
      ]
    },
    {
      "cell_type": "code",
      "source": [
        "print(classification_report(y_test,prediction))"
      ],
      "metadata": {
        "colab": {
          "base_uri": "https://localhost:8080/"
        },
        "id": "MJTUEAt2-9am",
        "outputId": "04b5ea5d-7706-4b8c-e3bf-8bf2e3ecb7df"
      },
      "execution_count": 91,
      "outputs": [
        {
          "output_type": "stream",
          "name": "stdout",
          "text": [
            "              precision    recall  f1-score   support\n",
            "\n",
            "      Arabic       0.99      1.00      1.00       134\n",
            "      Danish       0.95      0.97      0.96        97\n",
            "       Dutch       0.99      0.95      0.97       139\n",
            "     English       0.96      0.99      0.98       364\n",
            "      French       0.99      0.99      0.99       269\n",
            "      German       0.98      0.97      0.97       116\n",
            "       Greek       1.00      1.00      1.00        86\n",
            "       Hindi       1.00      1.00      1.00        13\n",
            "     Italian       0.98      0.97      0.97       180\n",
            "     Kannada       1.00      1.00      1.00        78\n",
            "   Malayalam       1.00      0.99      1.00       158\n",
            "  Portugeese       0.98      0.97      0.97       170\n",
            "     Russian       1.00      1.00      1.00       171\n",
            "     Spanish       0.99      0.98      0.98       206\n",
            "    Sweedish       0.97      0.96      0.97       162\n",
            "       Tamil       1.00      1.00      1.00       114\n",
            "     Turkish       0.98      0.99      0.98       128\n",
            "\n",
            "    accuracy                           0.98      2585\n",
            "   macro avg       0.99      0.98      0.98      2585\n",
            "weighted avg       0.98      0.98      0.98      2585\n",
            "\n"
          ]
        }
      ]
    },
    {
      "cell_type": "markdown",
      "source": [
        "# Checking Model"
      ],
      "metadata": {
        "id": "VMwcIwi-OCKs"
      }
    },
    {
      "cell_type": "code",
      "source": [
        "one = x_test[55:56]\n",
        "one"
      ],
      "metadata": {
        "colab": {
          "base_uri": "https://localhost:8080/"
        },
        "id": "174MjrixOGDR",
        "outputId": "0c9ab013-5d33-4326-e52c-29556c935a95"
      },
      "execution_count": 112,
      "outputs": [
        {
          "output_type": "execute_result",
          "data": {
            "text/plain": [
              "33    rock units are first emplaced either by deposi...\n",
              "dtype: object"
            ]
          },
          "metadata": {},
          "execution_count": 112
        }
      ]
    },
    {
      "cell_type": "code",
      "source": [
        "pred_one = mod.predict(one)\n",
        "pred_one"
      ],
      "metadata": {
        "colab": {
          "base_uri": "https://localhost:8080/"
        },
        "id": "Ngs63jt9OYBJ",
        "outputId": "2ca68bcb-4a8c-42b9-edbc-70548452228c"
      },
      "execution_count": 114,
      "outputs": [
        {
          "output_type": "execute_result",
          "data": {
            "text/plain": [
              "array(['English'], dtype=object)"
            ]
          },
          "metadata": {},
          "execution_count": 114
        }
      ]
    },
    {
      "cell_type": "code",
      "source": [
        "two = x_test[155:156]\n",
        "two"
      ],
      "metadata": {
        "colab": {
          "base_uri": "https://localhost:8080/"
        },
        "id": "jBwwTnFDOsFG",
        "outputId": "aacdcfae-0a9e-47dc-bc53-fcbe56e97cb5"
      },
      "execution_count": 116,
      "outputs": [
        {
          "output_type": "execute_result",
          "data": {
            "text/plain": [
              "3055    eu não estou interessado.\n",
              "dtype: object"
            ]
          },
          "metadata": {},
          "execution_count": 116
        }
      ]
    },
    {
      "cell_type": "code",
      "source": [
        "pred_two = mod.predict(two)\n",
        "pred_two"
      ],
      "metadata": {
        "colab": {
          "base_uri": "https://localhost:8080/"
        },
        "id": "XoQqz2HkO1vw",
        "outputId": "d71cbb01-7de0-4eb3-d856-1f36abb01d60"
      },
      "execution_count": 117,
      "outputs": [
        {
          "output_type": "execute_result",
          "data": {
            "text/plain": [
              "array(['Portugeese'], dtype=object)"
            ]
          },
          "metadata": {},
          "execution_count": 117
        }
      ]
    },
    {
      "cell_type": "code",
      "source": [
        "three = x_test[1330:1331]\n",
        "three"
      ],
      "metadata": {
        "colab": {
          "base_uri": "https://localhost:8080/"
        },
        "id": "c3hP0RzvO9O3",
        "outputId": "3b7bd2cb-365e-41ef-8ccc-b7460ee030b4"
      },
      "execution_count": 123,
      "outputs": [
        {
          "output_type": "execute_result",
          "data": {
            "text/plain": [
              "9092    لذلك، لا تملي اللجنة محتوى المقالات، على الرغم...\n",
              "dtype: object"
            ]
          },
          "metadata": {},
          "execution_count": 123
        }
      ]
    },
    {
      "cell_type": "code",
      "source": [
        "pred_three = mod.predict(three)\n",
        "pred_three"
      ],
      "metadata": {
        "colab": {
          "base_uri": "https://localhost:8080/"
        },
        "id": "OCuei12qPClE",
        "outputId": "11388bf7-e515-4a39-a7d6-8f0fca765b14"
      },
      "execution_count": 124,
      "outputs": [
        {
          "output_type": "execute_result",
          "data": {
            "text/plain": [
              "array(['Arabic'], dtype=object)"
            ]
          },
          "metadata": {},
          "execution_count": 124
        }
      ]
    },
    {
      "cell_type": "code",
      "source": [
        "four = x_test[1167:1168]\n",
        "four"
      ],
      "metadata": {
        "colab": {
          "base_uri": "https://localhost:8080/"
        },
        "id": "CwQr7VxkPbHa",
        "outputId": "d38cc74a-d9cb-4f42-c92b-888636da620a"
      },
      "execution_count": 128,
      "outputs": [
        {
          "output_type": "execute_result",
          "data": {
            "text/plain": [
              "1702    ഞാൻ ചോദിക്കുന്നു അവസാനം ഞാൻ പറയുന്നു.\n",
              "dtype: object"
            ]
          },
          "metadata": {},
          "execution_count": 128
        }
      ]
    },
    {
      "cell_type": "code",
      "source": [
        "pred_four = mod.predict(four)\n",
        "pred_four"
      ],
      "metadata": {
        "colab": {
          "base_uri": "https://localhost:8080/"
        },
        "id": "h9KABUysPn9X",
        "outputId": "6ff65c5c-668d-481a-b646-3d1f387a326c"
      },
      "execution_count": 129,
      "outputs": [
        {
          "output_type": "execute_result",
          "data": {
            "text/plain": [
              "array(['Malayalam'], dtype=object)"
            ]
          },
          "metadata": {},
          "execution_count": 129
        }
      ]
    },
    {
      "cell_type": "markdown",
      "source": [
        "# Creating Dataset"
      ],
      "metadata": {
        "id": "jOByVxeC_PEG"
      }
    },
    {
      "cell_type": "code",
      "source": [
        "train = pd.DataFrame(x_train,columns=['Text'])\n",
        "train['Language'] = y_train\n",
        "train.to_csv('LD_train.csv')"
      ],
      "metadata": {
        "id": "wLpTXvVP_Ldn"
      },
      "execution_count": 92,
      "outputs": []
    },
    {
      "cell_type": "code",
      "source": [
        "test = pd.DataFrame(x_test,columns=['Text'])\n",
        "test.to_csv('LD_test.csv')"
      ],
      "metadata": {
        "id": "paW4-H1E_cBg"
      },
      "execution_count": 93,
      "outputs": []
    },
    {
      "cell_type": "code",
      "source": [
        "ans = pd.DataFrame(y_test, columns= ['Language'])\n",
        "ans['Prediction'] = prediction\n",
        "ans.to_csv('LD_answer.csv')\n"
      ],
      "metadata": {
        "id": "T02XP7G9_yjU"
      },
      "execution_count": 94,
      "outputs": []
    }
  ]
}